{
 "cells": [
  {
   "cell_type": "code",
   "execution_count": 3,
   "metadata": {},
   "outputs": [],
   "source": [
    "\n",
    "import os\n",
    "from openai import OpenAI\n",
    "\n",
    "\n",
    "# Run the next two lines only if you have a .env file with the OpenAI secret key\n",
    "from dotenv import load_dotenv\n",
    "load_dotenv()\n",
    "\n",
    "client = OpenAI()  # Optionally you can provide api key as a arguement here if you have not set it as env var\n",
    "\n",
    "completion = client.chat.completions.create(\n",
    "  model=\"gpt-4o-mini\",\n",
    "  temperature=0,\n",
    "  max_tokens=50,\n",
    "  messages=[\n",
    "    {\"role\": \"system\", \"content\": \"You are useful assistant that helps in writing linkedin content for posts, articles and expert contributions. A user will ask youa question in which he or she is an expert. He or she then would want to share the your answer with their linkedin audience. Your response format for each of these questions, should be in 3-4 points with no font formatting like bold or italic or variation in font size. Add a space of line between each of the points. Give the post content as an exact answer and do not write anything else in the response. The user should be able to directly copy your entire response and post it imediately without any modifications. You can add a hook at the beginning of the response to catch the attention of the reader into reading the post. The response should not exceed 575 characters and 110 tokens.\"},\n",
    "    {\"role\": \"user\", \"content\": \"Here's how you can market your consulting services effectively in the Machine Learning industry.\"}\n",
    "  ]\n",
    ")"
   ]
  },
  {
   "cell_type": "code",
   "execution_count": 4,
   "metadata": {},
   "outputs": [
    {
     "data": {
      "text/plain": [
       "{'id': 'chatcmpl-A1WusZkB9A0SM0Jl13iMZ1jgZ215t',\n",
       " 'choices': [{'finish_reason': 'length',\n",
       "   'index': 0,\n",
       "   'logprobs': None,\n",
       "   'message': {'content': 'Are you looking to stand out in the competitive Machine Learning consulting space? Here are some effective marketing strategies:\\n\\n1. Showcase your expertise through case studies and success stories that highlight your impact on previous clients.\\n\\n2. Leverage social media platforms and professional networks',\n",
       "    'role': 'assistant',\n",
       "    'function_call': None,\n",
       "    'tool_calls': None,\n",
       "    'refusal': None}}],\n",
       " 'created': 1724928222,\n",
       " 'model': 'gpt-4o-mini-2024-07-18',\n",
       " 'object': 'chat.completion',\n",
       " 'service_tier': None,\n",
       " 'system_fingerprint': 'fp_f33667828e',\n",
       " 'usage': {'completion_tokens': 50, 'prompt_tokens': 192, 'total_tokens': 242}}"
      ]
     },
     "execution_count": 4,
     "metadata": {},
     "output_type": "execute_result"
    }
   ],
   "source": [
    "completion.dict()"
   ]
  },
  {
   "cell_type": "code",
   "execution_count": null,
   "metadata": {},
   "outputs": [],
   "source": [
    "\n",
    "# answer = completion.choices[0].message.content\n",
    "# print(len(answer))\n",
    "# print(answer)"
   ]
  },
  {
   "cell_type": "code",
   "execution_count": 2,
   "metadata": {},
   "outputs": [
    {
     "name": "stdout",
     "output_type": "stream",
     "text": [
      "Learning data science doesn't have to feel like cracking a secret code.\n",
      "\n",
      "(Trust me, It’s simpler than it looks!)\n",
      "\n",
      "Here’s how I went from “Data what?” to “Hey, I can do this!” in just 60 days:\n",
      "\n",
      "Follow me (Sahil Vohra - https://www.linkedin.com/in/sahil-vohra/) to learn daily data with fun...\n",
      "\n",
      "Days 1-10: Foundation Building\n",
      "📘 Objective: Get the basics down.\n",
      "\n",
      "Day 1-2: I started with a beginner-friendly course. No shame in starting at square one!\n",
      "Day 3-6: Dived into Python—cue the “a-ha” moments. Python quickly became my new best friend.\n",
      "Day 7-10: Wrapped my head around basic statistics. Finally figured out what all those mean and median jokes were about.\n",
      "Days 11-20: Practice with Projects\n",
      "🛠 Objective: Start getting my hands dirty.\n",
      "\n",
      "Day 11-14: Tackled my first project with a simple dataset. The satisfaction of making sense of numbers was real.\n",
      "Day 15-18: Ventured into data visualization. I turned boring spreadsheets into colorful graphs—I felt like a magician!\n",
      "Day 19-20: Posted my first project on GitHub. A small step for me, a giant leap for my confidence.\n",
      "Days 21-30: Machine Learning Adventures\n",
      "🤖 Objective: Enter the world of ML.\n",
      "\n",
      "Day 21-23: Learned about supervised learning. It felt like unlocking a new level in a video game.\n",
      "Day 24-27: Worked on a classification project. Predicting outcomes suddenly became my new party trick.\n",
      "Day 28-30: Dipped my toes into unsupervised learning. It was confusing at first, but I started seeing patterns everywhere.\n",
      "Days 31-40: Going Deeper\n",
      "🔍 Objective: Get serious about data science.\n",
      "\n",
      "Day 31-34: Explored advanced algorithms. Decision trees and random forests became my weekend buddies.\n",
      "Day 35-37: Took on a Kaggle competition. Competing against others pushed me out of my comfort zone, and I loved it.\n",
      "Day 38-40: Began learning neural networks. It was like teaching a robot to think—a bit surreal but fascinating.\n",
      "Days 41-50: Specialization Time\n",
      "🔧 Objective: Find my niche.\n",
      "\n",
      "Day 41-43: Chose to focus on NLP (natural language processing). Who knew teaching machines to understand language could be so cool?\n",
      "Day 44-47: Started a specialized project. It felt great to dive deep into something I was genuinely excited about.\n",
      "Day 48-50: Shared my progress on LinkedIn. The support from the community was amazing.\n",
      "Days 51-60: Polish and Network\n",
      "🌐 Objective: Fine-tune my skills and expand my circle.\n",
      "\n",
      "Day 51-53: Refined my projects. Polishing the details felt like adding the cherry on top.\n",
      "Day 54-56: Joined data science forums and LinkedIn groups. Connecting with others made the journey less lonely and more fun.\n",
      "Day 57-60: Planned my next steps. Whether it’s landing a job or diving into more advanced topics, the journey continues.\n",
      "Remember: Progress over perfection.\n",
      "If I can do it, you definitely can too. Stay consistent, keep it fun, and watch your skills grow.\n",
      "\n",
      "Which part of my journey resonates with you the most?\n"
     ]
    },
    {
     "name": "stderr",
     "output_type": "stream",
     "text": [
      "The geckodriver version (0.34.0) detected in PATH at /opt/homebrew/bin/geckodriver might not be compatible with the detected firefox version (129.0.2); currently, geckodriver 0.35.0 is recommended for firefox 129.*, so it is advised to delete the driver in PATH and retry\n"
     ]
    }
   ],
   "source": []
  },
  {
   "cell_type": "code",
   "execution_count": null,
   "metadata": {},
   "outputs": [],
   "source": []
  }
 ],
 "metadata": {
  "kernelspec": {
   "display_name": "llm-env",
   "language": "python",
   "name": "python3"
  },
  "language_info": {
   "codemirror_mode": {
    "name": "ipython",
    "version": 3
   },
   "file_extension": ".py",
   "mimetype": "text/x-python",
   "name": "python",
   "nbconvert_exporter": "python",
   "pygments_lexer": "ipython3",
   "version": "3.9.18"
  }
 },
 "nbformat": 4,
 "nbformat_minor": 2
}
